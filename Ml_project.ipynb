{
  "nbformat": 4,
  "nbformat_minor": 0,
  "metadata": {
    "colab": {
      "provenance": [],
      "gpuType": "T4"
    },
    "kernelspec": {
      "name": "python3",
      "display_name": "Python 3"
    },
    "language_info": {
      "name": "python"
    },
    "accelerator": "GPU"
  },
  "cells": [
    {
      "cell_type": "code",
      "execution_count": null,
      "metadata": {
        "id": "Zj1RJst0cg5L"
      },
      "outputs": [],
      "source": [
        "#importing libraries\n",
        "import tensorflow as tf\n",
        "import matplotlib.pyplot as plt  #for visuvalisation\n",
        "import pandas as pd\n",
        "import seaborn as sns\n",
        "import os #for folder"
      ]
    },
    {
      "cell_type": "markdown",
      "source": [
        "Now we need to first mount drive where folders are kept\n"
      ],
      "metadata": {
        "id": "T6TtDiQI9qvX"
      }
    },
    {
      "cell_type": "code",
      "source": [
        "from google.colab import drive\n",
        "drive.mount('/content/drive')"
      ],
      "metadata": {
        "colab": {
          "base_uri": "https://localhost:8080/"
        },
        "id": "az-LEwX5tCCZ",
        "outputId": "079fedac-a222-40fc-9d28-6574cc08853d"
      },
      "execution_count": null,
      "outputs": [
        {
          "output_type": "stream",
          "name": "stdout",
          "text": [
            "Drive already mounted at /content/drive; to attempt to forcibly remount, call drive.mount(\"/content/drive\", force_remount=True).\n"
          ]
        }
      ]
    },
    {
      "cell_type": "markdown",
      "source": [
        "Training Folder\n",
        "and Content inside it\n"
      ],
      "metadata": {
        "id": "Fii0dP359yL_"
      }
    },
    {
      "cell_type": "code",
      "source": [
        "training_folder = \"/content/drive/MyDrive/ML_project/Train\"\n",
        "\n",
        "number_of_images = {}\n",
        "\n",
        "for dir in os.listdir(training_folder):\n",
        "  number_of_images[dir] = len(os.listdir(os.path.join(training_folder, dir)))"
      ],
      "metadata": {
        "id": "ZDINF40DuNHv"
      },
      "execution_count": null,
      "outputs": []
    },
    {
      "cell_type": "code",
      "source": [
        "  number_of_images.items()"
      ],
      "metadata": {
        "colab": {
          "base_uri": "https://localhost:8080/"
        },
        "id": "rZoT4ohC9MFP",
        "outputId": "dacfaef9-5691-4de3-c57a-826f90fad92a"
      },
      "execution_count": null,
      "outputs": [
        {
          "output_type": "execute_result",
          "data": {
            "text/plain": [
              "dict_items([('NON _CANCER', 450), ('CANCER', 489)])"
            ]
          },
          "metadata": {},
          "execution_count": 4
        }
      ]
    },
    {
      "cell_type": "code",
      "source": [
        "len(os.listdir(\"/content/drive/MyDrive/ML_project/Train\"))"
      ],
      "metadata": {
        "colab": {
          "base_uri": "https://localhost:8080/"
        },
        "id": "rFObC9p75oFF",
        "outputId": "51edbef0-b696-41ab-bbb7-54e447f1eae5"
      },
      "execution_count": null,
      "outputs": [
        {
          "output_type": "execute_result",
          "data": {
            "text/plain": [
              "2"
            ]
          },
          "metadata": {},
          "execution_count": 5
        }
      ]
    },
    {
      "cell_type": "markdown",
      "source": [
        "Test folder\n"
      ],
      "metadata": {
        "id": "8_WkBDxS-iE8"
      }
    },
    {
      "cell_type": "code",
      "source": [
        "testing_folder = \"/content/drive/MyDrive/ML_project/Test\"\n",
        "\n",
        "number_of_imagest = {}\n",
        "\n",
        "for dir in os.listdir(testing_folder):\n",
        "  number_of_imagest[dir] = len(os.listdir(os.path.join(testing_folder, dir)))"
      ],
      "metadata": {
        "id": "WOpxqxZf-wRC"
      },
      "execution_count": null,
      "outputs": []
    },
    {
      "cell_type": "code",
      "source": [
        "  number_of_imagest.items()"
      ],
      "metadata": {
        "colab": {
          "base_uri": "https://localhost:8080/"
        },
        "id": "Y92TTPBK_CJj",
        "outputId": "8fa879bf-1ab2-48ba-a3ac-adef167f5079"
      },
      "execution_count": null,
      "outputs": [
        {
          "output_type": "execute_result",
          "data": {
            "text/plain": [
              "dict_items([('NON_CANCER', 250), ('CANCER', 500)])"
            ]
          },
          "metadata": {},
          "execution_count": 7
        }
      ]
    },
    {
      "cell_type": "markdown",
      "source": [
        "MODEL"
      ],
      "metadata": {
        "id": "1S6fF-i5AQ5Z"
      }
    },
    {
      "cell_type": "code",
      "source": [
        "from tensorflow.keras.applications import MobileNet\n",
        "from tensorflow.keras.applications.mobilenet import preprocess_input\n",
        "from keras.preprocessing.image import ImageDataGenerator\n",
        "\n",
        "\n",
        "def preprocessingImages1(path):\n",
        "    \"\"\"\n",
        "    input : Path\n",
        "    output: Pre Processed images\n",
        "    \"\"\"\n",
        "    image_data = ImageDataGenerator(zoom_range=0.2, shear_range=0.2, preprocessing_function=preprocess_input, horizontal_flip=True)\n",
        "    image = image_data.flow_from_directory(directory=path, target_size=(224,224), batch_size=32, class_mode='binary')\n",
        "\n",
        "    return image\n"
      ],
      "metadata": {
        "id": "B63TpU9o-KFH"
      },
      "execution_count": null,
      "outputs": []
    },
    {
      "cell_type": "code",
      "source": [
        "path = \"/content/drive/MyDrive/ML_project/Train\"\n",
        "train_data = preprocessingImages1(path)"
      ],
      "metadata": {
        "colab": {
          "base_uri": "https://localhost:8080/"
        },
        "id": "QVWKhlRhleX3",
        "outputId": "e0e6653f-189e-43b5-c909-5d4791770485"
      },
      "execution_count": null,
      "outputs": [
        {
          "output_type": "stream",
          "name": "stdout",
          "text": [
            "Found 939 images belonging to 2 classes.\n"
          ]
        }
      ]
    },
    {
      "cell_type": "code",
      "source": [
        "from PIL import Image\n",
        "import os\n",
        "\n",
        "directory = \"/content/drive/MyDrive/ML_project/Train/CANCER\"\n",
        "valid_image_paths = []\n",
        "\n",
        "for filename in os.listdir(directory):\n",
        "    filepath = os.path.join(directory, filename)\n",
        "    try:\n",
        "        img = Image.open(filepath)\n",
        "        valid_image_paths.append(filepath)\n",
        "    except (IOError, OSError) as e:\n",
        "        print(f\"Error loading image {filepath}: {e}\")\n",
        "\n",
        "print(\"Number of valid images:\", len(valid_image_paths))\n",
        "\n"
      ],
      "metadata": {
        "colab": {
          "base_uri": "https://localhost:8080/"
        },
        "id": "J-krhlIRE1PY",
        "outputId": "9a965526-4a71-467e-e836-68c7a8f844b2"
      },
      "execution_count": null,
      "outputs": [
        {
          "output_type": "stream",
          "name": "stdout",
          "text": [
            "Number of valid images: 489\n"
          ]
        }
      ]
    },
    {
      "cell_type": "code",
      "source": [
        "from PIL import Image\n",
        "import os\n",
        "\n",
        "directory = \"/content/drive/MyDrive/ML_project/Train/NON _CANCER\"\n",
        "valid_image_paths = []\n",
        "\n",
        "for filename in os.listdir(directory):\n",
        "    filepath = os.path.join(directory, filename)\n",
        "    try:\n",
        "        img = Image.open(filepath)\n",
        "        valid_image_paths.append(filepath)\n",
        "    except (IOError, OSError) as e:\n",
        "        print(f\"Error loading image {filepath}: {e}\")\n",
        "\n",
        "print(\"Number of valid images:\", len(valid_image_paths))\n",
        "\n"
      ],
      "metadata": {
        "colab": {
          "base_uri": "https://localhost:8080/"
        },
        "id": "9FQOo4dOnLEg",
        "outputId": "84796a9f-c14b-4469-fc53-6a4cee0814fa"
      },
      "execution_count": null,
      "outputs": [
        {
          "output_type": "stream",
          "name": "stdout",
          "text": [
            "Number of valid images: 450\n"
          ]
        }
      ]
    },
    {
      "cell_type": "code",
      "source": [
        "from keras.preprocessing.image import ImageDataGenerator\n",
        "\n",
        "def preprocessingImages2(path):\n",
        "    \"\"\"\n",
        "    input : Path\n",
        "    output: Pre Processed images\n",
        "    \"\"\"\n",
        "    image_data = ImageDataGenerator(preprocessing_function=preprocess_input)\n",
        "    image = image_data.flow_from_directory(directory=path, target_size=(224,224), batch_size=32, class_mode='binary')\n",
        "\n",
        "    return image\n"
      ],
      "metadata": {
        "id": "YyvWCp65E1dR"
      },
      "execution_count": null,
      "outputs": []
    },
    {
      "cell_type": "code",
      "source": [
        "path = \"/content/drive/MyDrive/ML_project/Test\"\n",
        "test_data = preprocessingImages2(path)"
      ],
      "metadata": {
        "colab": {
          "base_uri": "https://localhost:8080/"
        },
        "id": "b-A1uMp7baRy",
        "outputId": "4f72a48b-669e-483b-a639-ae42e61130dc"
      },
      "execution_count": null,
      "outputs": [
        {
          "output_type": "stream",
          "name": "stdout",
          "text": [
            "Found 750 images belonging to 2 classes.\n"
          ]
        }
      ]
    },
    {
      "cell_type": "markdown",
      "source": [
        "**Model Training**"
      ],
      "metadata": {
        "id": "CKSZ4NGYkTid"
      }
    },
    {
      "cell_type": "code",
      "source": [
        "import numpy as np\n",
        "import matplotlib.pyplot as plt\n",
        "from keras.layers import Flatten, Dense\n",
        "from keras.models import Model, load_model\n",
        "from keras.applications.mobilenet import MobileNet\n",
        "import keras"
      ],
      "metadata": {
        "id": "VWC0TwV8gm5u"
      },
      "execution_count": null,
      "outputs": []
    },
    {
      "cell_type": "code",
      "source": [
        "base_model = MobileNet(input_shape=(224,224,3), include_top=False)"
      ],
      "metadata": {
        "colab": {
          "base_uri": "https://localhost:8080/"
        },
        "id": "vqCyplErxjF9",
        "outputId": "b895b7d5-7958-432f-8dbe-0dbcc37c82d3"
      },
      "execution_count": null,
      "outputs": [
        {
          "output_type": "stream",
          "name": "stdout",
          "text": [
            "Downloading data from https://storage.googleapis.com/tensorflow/keras-applications/mobilenet/mobilenet_1_0_224_tf_no_top.h5\n",
            "17225924/17225924 [==============================] - 1s 0us/step\n"
          ]
        }
      ]
    },
    {
      "cell_type": "code",
      "source": [
        "for layer in base_model.layers:\n",
        "    layer.trainable = False"
      ],
      "metadata": {
        "id": "P0nSwYSsxjCb"
      },
      "execution_count": null,
      "outputs": []
    },
    {
      "cell_type": "code",
      "source": [
        "X= Flatten()(base_model.output)\n",
        "X= Dense(units=1, activation='sigmoid')(X)\n",
        "\n",
        "model=Model(base_model.input,X)"
      ],
      "metadata": {
        "id": "SjP6-9k4xi_4"
      },
      "execution_count": null,
      "outputs": []
    },
    {
      "cell_type": "code",
      "source": [
        " model.summary()"
      ],
      "metadata": {
        "colab": {
          "base_uri": "https://localhost:8080/"
        },
        "id": "Xhd7HV-Uxi8x",
        "outputId": "f33d237d-acac-439e-8abb-78a41499852a"
      },
      "execution_count": null,
      "outputs": [
        {
          "output_type": "stream",
          "name": "stdout",
          "text": [
            "Model: \"model\"\n",
            "_________________________________________________________________\n",
            " Layer (type)                Output Shape              Param #   \n",
            "=================================================================\n",
            " input_1 (InputLayer)        [(None, 224, 224, 3)]     0         \n",
            "                                                                 \n",
            " conv1 (Conv2D)              (None, 112, 112, 32)      864       \n",
            "                                                                 \n",
            " conv1_bn (BatchNormalizati  (None, 112, 112, 32)      128       \n",
            " on)                                                             \n",
            "                                                                 \n",
            " conv1_relu (ReLU)           (None, 112, 112, 32)      0         \n",
            "                                                                 \n",
            " conv_dw_1 (DepthwiseConv2D  (None, 112, 112, 32)      288       \n",
            " )                                                               \n",
            "                                                                 \n",
            " conv_dw_1_bn (BatchNormali  (None, 112, 112, 32)      128       \n",
            " zation)                                                         \n",
            "                                                                 \n",
            " conv_dw_1_relu (ReLU)       (None, 112, 112, 32)      0         \n",
            "                                                                 \n",
            " conv_pw_1 (Conv2D)          (None, 112, 112, 64)      2048      \n",
            "                                                                 \n",
            " conv_pw_1_bn (BatchNormali  (None, 112, 112, 64)      256       \n",
            " zation)                                                         \n",
            "                                                                 \n",
            " conv_pw_1_relu (ReLU)       (None, 112, 112, 64)      0         \n",
            "                                                                 \n",
            " conv_pad_2 (ZeroPadding2D)  (None, 113, 113, 64)      0         \n",
            "                                                                 \n",
            " conv_dw_2 (DepthwiseConv2D  (None, 56, 56, 64)        576       \n",
            " )                                                               \n",
            "                                                                 \n",
            " conv_dw_2_bn (BatchNormali  (None, 56, 56, 64)        256       \n",
            " zation)                                                         \n",
            "                                                                 \n",
            " conv_dw_2_relu (ReLU)       (None, 56, 56, 64)        0         \n",
            "                                                                 \n",
            " conv_pw_2 (Conv2D)          (None, 56, 56, 128)       8192      \n",
            "                                                                 \n",
            " conv_pw_2_bn (BatchNormali  (None, 56, 56, 128)       512       \n",
            " zation)                                                         \n",
            "                                                                 \n",
            " conv_pw_2_relu (ReLU)       (None, 56, 56, 128)       0         \n",
            "                                                                 \n",
            " conv_dw_3 (DepthwiseConv2D  (None, 56, 56, 128)       1152      \n",
            " )                                                               \n",
            "                                                                 \n",
            " conv_dw_3_bn (BatchNormali  (None, 56, 56, 128)       512       \n",
            " zation)                                                         \n",
            "                                                                 \n",
            " conv_dw_3_relu (ReLU)       (None, 56, 56, 128)       0         \n",
            "                                                                 \n",
            " conv_pw_3 (Conv2D)          (None, 56, 56, 128)       16384     \n",
            "                                                                 \n",
            " conv_pw_3_bn (BatchNormali  (None, 56, 56, 128)       512       \n",
            " zation)                                                         \n",
            "                                                                 \n",
            " conv_pw_3_relu (ReLU)       (None, 56, 56, 128)       0         \n",
            "                                                                 \n",
            " conv_pad_4 (ZeroPadding2D)  (None, 57, 57, 128)       0         \n",
            "                                                                 \n",
            " conv_dw_4 (DepthwiseConv2D  (None, 28, 28, 128)       1152      \n",
            " )                                                               \n",
            "                                                                 \n",
            " conv_dw_4_bn (BatchNormali  (None, 28, 28, 128)       512       \n",
            " zation)                                                         \n",
            "                                                                 \n",
            " conv_dw_4_relu (ReLU)       (None, 28, 28, 128)       0         \n",
            "                                                                 \n",
            " conv_pw_4 (Conv2D)          (None, 28, 28, 256)       32768     \n",
            "                                                                 \n",
            " conv_pw_4_bn (BatchNormali  (None, 28, 28, 256)       1024      \n",
            " zation)                                                         \n",
            "                                                                 \n",
            " conv_pw_4_relu (ReLU)       (None, 28, 28, 256)       0         \n",
            "                                                                 \n",
            " conv_dw_5 (DepthwiseConv2D  (None, 28, 28, 256)       2304      \n",
            " )                                                               \n",
            "                                                                 \n",
            " conv_dw_5_bn (BatchNormali  (None, 28, 28, 256)       1024      \n",
            " zation)                                                         \n",
            "                                                                 \n",
            " conv_dw_5_relu (ReLU)       (None, 28, 28, 256)       0         \n",
            "                                                                 \n",
            " conv_pw_5 (Conv2D)          (None, 28, 28, 256)       65536     \n",
            "                                                                 \n",
            " conv_pw_5_bn (BatchNormali  (None, 28, 28, 256)       1024      \n",
            " zation)                                                         \n",
            "                                                                 \n",
            " conv_pw_5_relu (ReLU)       (None, 28, 28, 256)       0         \n",
            "                                                                 \n",
            " conv_pad_6 (ZeroPadding2D)  (None, 29, 29, 256)       0         \n",
            "                                                                 \n",
            " conv_dw_6 (DepthwiseConv2D  (None, 14, 14, 256)       2304      \n",
            " )                                                               \n",
            "                                                                 \n",
            " conv_dw_6_bn (BatchNormali  (None, 14, 14, 256)       1024      \n",
            " zation)                                                         \n",
            "                                                                 \n",
            " conv_dw_6_relu (ReLU)       (None, 14, 14, 256)       0         \n",
            "                                                                 \n",
            " conv_pw_6 (Conv2D)          (None, 14, 14, 512)       131072    \n",
            "                                                                 \n",
            " conv_pw_6_bn (BatchNormali  (None, 14, 14, 512)       2048      \n",
            " zation)                                                         \n",
            "                                                                 \n",
            " conv_pw_6_relu (ReLU)       (None, 14, 14, 512)       0         \n",
            "                                                                 \n",
            " conv_dw_7 (DepthwiseConv2D  (None, 14, 14, 512)       4608      \n",
            " )                                                               \n",
            "                                                                 \n",
            " conv_dw_7_bn (BatchNormali  (None, 14, 14, 512)       2048      \n",
            " zation)                                                         \n",
            "                                                                 \n",
            " conv_dw_7_relu (ReLU)       (None, 14, 14, 512)       0         \n",
            "                                                                 \n",
            " conv_pw_7 (Conv2D)          (None, 14, 14, 512)       262144    \n",
            "                                                                 \n",
            " conv_pw_7_bn (BatchNormali  (None, 14, 14, 512)       2048      \n",
            " zation)                                                         \n",
            "                                                                 \n",
            " conv_pw_7_relu (ReLU)       (None, 14, 14, 512)       0         \n",
            "                                                                 \n",
            " conv_dw_8 (DepthwiseConv2D  (None, 14, 14, 512)       4608      \n",
            " )                                                               \n",
            "                                                                 \n",
            " conv_dw_8_bn (BatchNormali  (None, 14, 14, 512)       2048      \n",
            " zation)                                                         \n",
            "                                                                 \n",
            " conv_dw_8_relu (ReLU)       (None, 14, 14, 512)       0         \n",
            "                                                                 \n",
            " conv_pw_8 (Conv2D)          (None, 14, 14, 512)       262144    \n",
            "                                                                 \n",
            " conv_pw_8_bn (BatchNormali  (None, 14, 14, 512)       2048      \n",
            " zation)                                                         \n",
            "                                                                 \n",
            " conv_pw_8_relu (ReLU)       (None, 14, 14, 512)       0         \n",
            "                                                                 \n",
            " conv_dw_9 (DepthwiseConv2D  (None, 14, 14, 512)       4608      \n",
            " )                                                               \n",
            "                                                                 \n",
            " conv_dw_9_bn (BatchNormali  (None, 14, 14, 512)       2048      \n",
            " zation)                                                         \n",
            "                                                                 \n",
            " conv_dw_9_relu (ReLU)       (None, 14, 14, 512)       0         \n",
            "                                                                 \n",
            " conv_pw_9 (Conv2D)          (None, 14, 14, 512)       262144    \n",
            "                                                                 \n",
            " conv_pw_9_bn (BatchNormali  (None, 14, 14, 512)       2048      \n",
            " zation)                                                         \n",
            "                                                                 \n",
            " conv_pw_9_relu (ReLU)       (None, 14, 14, 512)       0         \n",
            "                                                                 \n",
            " conv_dw_10 (DepthwiseConv2  (None, 14, 14, 512)       4608      \n",
            " D)                                                              \n",
            "                                                                 \n",
            " conv_dw_10_bn (BatchNormal  (None, 14, 14, 512)       2048      \n",
            " ization)                                                        \n",
            "                                                                 \n",
            " conv_dw_10_relu (ReLU)      (None, 14, 14, 512)       0         \n",
            "                                                                 \n",
            " conv_pw_10 (Conv2D)         (None, 14, 14, 512)       262144    \n",
            "                                                                 \n",
            " conv_pw_10_bn (BatchNormal  (None, 14, 14, 512)       2048      \n",
            " ization)                                                        \n",
            "                                                                 \n",
            " conv_pw_10_relu (ReLU)      (None, 14, 14, 512)       0         \n",
            "                                                                 \n",
            " conv_dw_11 (DepthwiseConv2  (None, 14, 14, 512)       4608      \n",
            " D)                                                              \n",
            "                                                                 \n",
            " conv_dw_11_bn (BatchNormal  (None, 14, 14, 512)       2048      \n",
            " ization)                                                        \n",
            "                                                                 \n",
            " conv_dw_11_relu (ReLU)      (None, 14, 14, 512)       0         \n",
            "                                                                 \n",
            " conv_pw_11 (Conv2D)         (None, 14, 14, 512)       262144    \n",
            "                                                                 \n",
            " conv_pw_11_bn (BatchNormal  (None, 14, 14, 512)       2048      \n",
            " ization)                                                        \n",
            "                                                                 \n",
            " conv_pw_11_relu (ReLU)      (None, 14, 14, 512)       0         \n",
            "                                                                 \n",
            " conv_pad_12 (ZeroPadding2D  (None, 15, 15, 512)       0         \n",
            " )                                                               \n",
            "                                                                 \n",
            " conv_dw_12 (DepthwiseConv2  (None, 7, 7, 512)         4608      \n",
            " D)                                                              \n",
            "                                                                 \n",
            " conv_dw_12_bn (BatchNormal  (None, 7, 7, 512)         2048      \n",
            " ization)                                                        \n",
            "                                                                 \n",
            " conv_dw_12_relu (ReLU)      (None, 7, 7, 512)         0         \n",
            "                                                                 \n",
            " conv_pw_12 (Conv2D)         (None, 7, 7, 1024)        524288    \n",
            "                                                                 \n",
            " conv_pw_12_bn (BatchNormal  (None, 7, 7, 1024)        4096      \n",
            " ization)                                                        \n",
            "                                                                 \n",
            " conv_pw_12_relu (ReLU)      (None, 7, 7, 1024)        0         \n",
            "                                                                 \n",
            " conv_dw_13 (DepthwiseConv2  (None, 7, 7, 1024)        9216      \n",
            " D)                                                              \n",
            "                                                                 \n",
            " conv_dw_13_bn (BatchNormal  (None, 7, 7, 1024)        4096      \n",
            " ization)                                                        \n",
            "                                                                 \n",
            " conv_dw_13_relu (ReLU)      (None, 7, 7, 1024)        0         \n",
            "                                                                 \n",
            " conv_pw_13 (Conv2D)         (None, 7, 7, 1024)        1048576   \n",
            "                                                                 \n",
            " conv_pw_13_bn (BatchNormal  (None, 7, 7, 1024)        4096      \n",
            " ization)                                                        \n",
            "                                                                 \n",
            " conv_pw_13_relu (ReLU)      (None, 7, 7, 1024)        0         \n",
            "                                                                 \n",
            " flatten (Flatten)           (None, 50176)             0         \n",
            "                                                                 \n",
            " dense (Dense)               (None, 1)                 50177     \n",
            "                                                                 \n",
            "=================================================================\n",
            "Total params: 3279041 (12.51 MB)\n",
            "Trainable params: 50177 (196.00 KB)\n",
            "Non-trainable params: 3228864 (12.32 MB)\n",
            "_________________________________________________________________\n"
          ]
        }
      ]
    },
    {
      "cell_type": "code",
      "source": [
        "model.compile(optimizer='rmsprop', loss=keras.losses.binary_crossentropy, metrics=['accuracy'])\n"
      ],
      "metadata": {
        "id": "qOZaShBIxixr"
      },
      "execution_count": null,
      "outputs": []
    },
    {
      "cell_type": "code",
      "source": [
        "#callbacks\n",
        "\n",
        "from tensorflow.keras.callbacks import EarlyStopping, ModelCheckpoint\n",
        "\n",
        "#model check point\n",
        "mc = ModelCheckpoint(filepath='best_model.h5', monitor='accuracy', save_best_only=True, verbose=1)\n",
        "\n",
        "#Early stopping\n",
        "es=EarlyStopping(monitor='accuracy', min_delta=0.01 ,patience=3, verbose=1)\n",
        "\n",
        "cb=[mc,es]\n"
      ],
      "metadata": {
        "id": "k5AIjgPOxy64"
      },
      "execution_count": null,
      "outputs": []
    },
    {
      "cell_type": "code",
      "source": [
        "hist = model.fit(\n",
        "    train_data,\n",
        "    steps_per_epoch=8,\n",
        "    epochs=30,\n",
        "    callbacks=cb\n",
        ")\n"
      ],
      "metadata": {
        "colab": {
          "base_uri": "https://localhost:8080/"
        },
        "id": "OaWcOfsI02WQ",
        "outputId": "3e8d389c-1bf2-48ae-8bfc-504f2b3788f3"
      },
      "execution_count": null,
      "outputs": [
        {
          "output_type": "stream",
          "name": "stdout",
          "text": [
            "Epoch 1/30\n",
            "8/8 [==============================] - ETA: 0s - loss: 4.8688 - accuracy: 0.6953\n",
            "Epoch 1: accuracy improved from -inf to 0.69531, saving model to best_model.h5\n"
          ]
        },
        {
          "output_type": "stream",
          "name": "stderr",
          "text": [
            "/usr/local/lib/python3.10/dist-packages/keras/src/engine/training.py:3103: UserWarning: You are saving your model as an HDF5 file via `model.save()`. This file format is considered legacy. We recommend using instead the native Keras format, e.g. `model.save('my_model.keras')`.\n",
            "  saving_api.save_model(\n"
          ]
        },
        {
          "output_type": "stream",
          "name": "stdout",
          "text": [
            "\b\b\b\b\b\b\b\b\b\b\b\b\b\b\b\b\b\b\b\b\b\b\b\b\b\b\b\b\b\b\b\b\b\b\b\b\b\b\b\b\b\b\b\b\b\b\b\b\b\b\b\b\b\b\b\b\b\b\b\b\b\b\b\b\b\b\b\b\b\b\b\b\b\b\b\b\b\b\b\b\r8/8 [==============================] - 28s 3s/step - loss: 4.8688 - accuracy: 0.6953\n",
            "Epoch 2/30\n",
            "3/8 [==========>...................] - ETA: 15s - loss: 2.2377 - accuracy: 0.6933"
          ]
        },
        {
          "output_type": "stream",
          "name": "stderr",
          "text": [
            "/usr/local/lib/python3.10/dist-packages/PIL/Image.py:996: UserWarning: Palette images with Transparency expressed in bytes should be converted to RGBA images\n",
            "  warnings.warn(\n"
          ]
        },
        {
          "output_type": "stream",
          "name": "stdout",
          "text": [
            "8/8 [==============================] - ETA: 0s - loss: 1.9671 - accuracy: 0.7617\n",
            "Epoch 2: accuracy improved from 0.69531 to 0.76170, saving model to best_model.h5\n",
            "8/8 [==============================] - 19s 3s/step - loss: 1.9671 - accuracy: 0.7617\n",
            "Epoch 3/30\n",
            "8/8 [==============================] - ETA: 0s - loss: 0.8146 - accuracy: 0.8828\n",
            "Epoch 3: accuracy improved from 0.76170 to 0.88281, saving model to best_model.h5\n",
            "8/8 [==============================] - 20s 2s/step - loss: 0.8146 - accuracy: 0.8828\n",
            "Epoch 4/30\n",
            "8/8 [==============================] - ETA: 0s - loss: 0.6628 - accuracy: 0.9021\n",
            "Epoch 4: accuracy improved from 0.88281 to 0.90213, saving model to best_model.h5\n",
            "8/8 [==============================] - 19s 2s/step - loss: 0.6628 - accuracy: 0.9021\n",
            "Epoch 5/30\n",
            "8/8 [==============================] - ETA: 0s - loss: 1.1744 - accuracy: 0.8477\n",
            "Epoch 5: accuracy did not improve from 0.90213\n",
            "8/8 [==============================] - 20s 2s/step - loss: 1.1744 - accuracy: 0.8477\n",
            "Epoch 6/30\n",
            "8/8 [==============================] - ETA: 0s - loss: 3.1540 - accuracy: 0.7734\n",
            "Epoch 6: accuracy did not improve from 0.90213\n",
            "8/8 [==============================] - 18s 2s/step - loss: 3.1540 - accuracy: 0.7734\n",
            "Epoch 7/30\n",
            "8/8 [==============================] - ETA: 0s - loss: 0.4864 - accuracy: 0.9277\n",
            "Epoch 7: accuracy improved from 0.90213 to 0.92766, saving model to best_model.h5\n",
            "8/8 [==============================] - 17s 2s/step - loss: 0.4864 - accuracy: 0.9277\n",
            "Epoch 8/30\n",
            "8/8 [==============================] - ETA: 0s - loss: 1.2746 - accuracy: 0.8438\n",
            "Epoch 8: accuracy did not improve from 0.92766\n",
            "8/8 [==============================] - 20s 2s/step - loss: 1.2746 - accuracy: 0.8438\n",
            "Epoch 9/30\n",
            "8/8 [==============================] - ETA: 0s - loss: 0.5912 - accuracy: 0.9219\n",
            "Epoch 9: accuracy did not improve from 0.92766\n",
            "8/8 [==============================] - 18s 2s/step - loss: 0.5912 - accuracy: 0.9219\n",
            "Epoch 10/30\n",
            "8/8 [==============================] - ETA: 0s - loss: 0.4152 - accuracy: 0.9219\n",
            "Epoch 10: accuracy did not improve from 0.92766\n",
            "8/8 [==============================] - 18s 2s/step - loss: 0.4152 - accuracy: 0.9219\n",
            "Epoch 10: early stopping\n"
          ]
        }
      ]
    },
    {
      "cell_type": "code",
      "source": [
        "#model Accuracy\n",
        "from keras.models import load_model\n",
        "\n",
        "model = load_model(\"/content/best_model.h5\")"
      ],
      "metadata": {
        "id": "2L-Q4Aor1bsx"
      },
      "execution_count": null,
      "outputs": []
    },
    {
      "cell_type": "code",
      "source": [
        "acc = model.evaluate(test_data)[1]\n",
        "print(f\"Our model accuracy is {acc * 100}%\")\n"
      ],
      "metadata": {
        "id": "noK6jGvF1gpK",
        "colab": {
          "base_uri": "https://localhost:8080/"
        },
        "outputId": "7f724234-63e0-4b94-dbab-96d5a9dcfa49"
      },
      "execution_count": null,
      "outputs": [
        {
          "output_type": "stream",
          "name": "stdout",
          "text": [
            "24/24 [==============================] - 402s 17s/step - loss: 0.6244 - accuracy: 0.9173\n",
            "Our model accuracy is 91.73333048820496%\n"
          ]
        }
      ]
    },
    {
      "cell_type": "code",
      "source": [
        "#model Graphical Interpretation\n",
        "\n",
        "h=hist.history\n",
        "h.keys()"
      ],
      "metadata": {
        "id": "zxsOZQ5GgnQ-",
        "colab": {
          "base_uri": "https://localhost:8080/"
        },
        "outputId": "3214770e-4edd-409c-a75b-74ce44debffb"
      },
      "execution_count": null,
      "outputs": [
        {
          "output_type": "execute_result",
          "data": {
            "text/plain": [
              "dict_keys(['loss', 'accuracy'])"
            ]
          },
          "metadata": {},
          "execution_count": 24
        }
      ]
    },
    {
      "cell_type": "code",
      "source": [
        "import matplotlib.pyplot as plt\n",
        "\n",
        "plt.plot(h['accuracy'])\n",
        "\n",
        "\n",
        "plt.title(\"Training Accuracy\")\n",
        "plt.xlabel(\"Epoch\")\n",
        "plt.ylabel(\"Accuracy\")\n",
        "plt.show()\n"
      ],
      "metadata": {
        "id": "_43ZiCoElVHZ",
        "colab": {
          "base_uri": "https://localhost:8080/",
          "height": 472
        },
        "outputId": "4f67bbb5-fdb7-4ca9-9712-409c726b4912"
      },
      "execution_count": null,
      "outputs": [
        {
          "output_type": "display_data",
          "data": {
            "text/plain": [
              "<Figure size 640x480 with 1 Axes>"
            ],
            "image/png": "[encoded data removed]"
          },
          "metadata": {}
        }
      ]
    },
    {
      "cell_type": "code",
      "source": [
        "import numpy as np\n",
        "from tensorflow.keras.preprocessing.image import load_img, img_to_array\n",
        "from tensorflow.keras.models import load_model\n",
        "from keras.applications.mobilenet import preprocess_input\n",
        "\n",
        "class_labels = {1: 'NON_CANCER', 0: 'CANCER'}\n",
        "\n",
        "def predict_image_class(image_path, model):\n",
        "    img = load_img(image_path, target_size=(224, 224))\n",
        "    img_array = img_to_array(img)\n",
        "    img_array = preprocess_input(img_array)\n",
        "    img_array = np.expand_dims(img_array, axis=0)\n",
        "    predictions = model.predict(img_array)\n",
        "    pred_class_index = np.argmax(predictions, axis=1)[0]\n",
        "    pred_class_label = class_labels[pred_class_index]\n",
        "    return pred_class_label, predictions[0]\n",
        "\n",
        "image_paths = [\n",
        "    \"/content/drive/MyDrive/ML_project/Train/CANCER/496.jpeg\",\n",
        "    \"/content/drive/MyDrive/ML_project/Train/CANCER/494.jpeg\",\n",
        "    \"/content/drive/MyDrive/ML_project/Train/NON _CANCER/012.jpeg\",\n",
        "    \"/content/drive/MyDrive/ML_project/Train/NON _CANCER/029.jpeg\",\n",
        "    \"/content/drive/MyDrive/ML_project/IMG_20240422_235021.jpg\",\n",
        "    \"/content/drive/MyDrive/ML_project/IMG_20240422_235311.jpg\"\n",
        "]\n",
        "\n",
        "model = load_model(\"/content/best_model.h5\")\n",
        "\n",
        "for path in image_paths:\n",
        "    pred_class_label, pred_probabilities = predict_image_class(path, model)\n",
        "    print(\"Image:\", path)\n",
        "    print(\"Predicted class:\", pred_class_label)\n",
        "    print(\"Predicted probabilities:\", 1-pred_probabilities)\n",
        "    print()\n"
      ],
      "metadata": {
        "id": "zFuGq6geM4Am",
        "colab": {
          "base_uri": "https://localhost:8080/"
        },
        "outputId": "8b679a54-9f64-483e-f68f-ab178be5070c"
      },
      "execution_count": null,
      "outputs": [
        {
          "output_type": "stream",
          "name": "stdout",
          "text": [
            "1/1 [==============================] - 1s 572ms/step\n",
            "Image: /content/drive/MyDrive/ML_project/Train/CANCER/496.jpeg\n",
            "Predicted class: CANCER\n",
            "Predicted probabilities: [1.]\n",
            "\n",
            "1/1 [==============================] - 0s 58ms/step\n",
            "Image: /content/drive/MyDrive/ML_project/Train/CANCER/494.jpeg\n",
            "Predicted class: CANCER\n",
            "Predicted probabilities: [1.]\n",
            "\n",
            "1/1 [==============================] - 0s 61ms/step\n",
            "Image: /content/drive/MyDrive/ML_project/Train/NON _CANCER/012.jpeg\n",
            "Predicted class: CANCER\n",
            "Predicted probabilities: [0.]\n",
            "\n",
            "1/1 [==============================] - 0s 62ms/step\n",
            "Image: /content/drive/MyDrive/ML_project/Train/NON _CANCER/029.jpeg\n",
            "Predicted class: CANCER\n",
            "Predicted probabilities: [0.]\n",
            "\n",
            "1/1 [==============================] - 0s 57ms/step\n",
            "Image: /content/drive/MyDrive/ML_project/IMG_20240422_235021.jpg\n",
            "Predicted class: CANCER\n",
            "Predicted probabilities: [2.104044e-05]\n",
            "\n",
            "1/1 [==============================] - 0s 55ms/step\n",
            "Image: /content/drive/MyDrive/ML_project/IMG_20240422_235311.jpg\n",
            "Predicted class: CANCER\n",
            "Predicted probabilities: [7.987022e-06]\n",
            "\n"
          ]
        }
      ]
    }
  ]
}